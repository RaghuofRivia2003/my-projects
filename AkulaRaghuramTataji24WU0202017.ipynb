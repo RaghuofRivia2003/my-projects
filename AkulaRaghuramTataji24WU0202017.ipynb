{
 "cells": [
  {
   "cell_type": "code",
   "execution_count": 6,
   "metadata": {},
   "outputs": [],
   "source": [
    "import pandas as pd\n",
    "from sklearn.model_selection import train_test_split\n",
    "from sklearn.preprocessing import OneHotEncoder, StandardScaler\n",
    "from sklearn.linear_model import LogisticRegression\n",
    "from sklearn.tree import DecisionTreeClassifier\n",
    "from sklearn.ensemble import RandomForestClassifier, AdaBoostClassifier\n",
    "from sklearn.metrics import accuracy_score"
   ]
  },
  {
   "cell_type": "code",
   "execution_count": 7,
   "metadata": {},
   "outputs": [],
   "source": [
    "data_file = \"C:\\\\Users\\\\raghu\\\\OneDrive\\\\Desktop\\\\python\\\\air cargo supplychain.xlsx\"\n",
    "data_frame = pd.read_excel(data_file, sheet_name=\"Sheet1\")"
   ]
  },
  {
   "cell_type": "code",
   "execution_count": 8,
   "metadata": {},
   "outputs": [
    {
     "name": "stdout",
     "output_type": "stream",
     "text": [
      "Null values in dataset:\n",
      "Shipment ID                       0\n",
      "Origin Airport                    0\n",
      "Destination Airport               0\n",
      "Shipment Weight (kg)              0\n",
      "Shipment Volume (m³)              0\n",
      "Freight Cost (USD)                0\n",
      "Mode of Transport                 0\n",
      "Carrier Name                      0\n",
      "Transit Time (hours)              0\n",
      "Temperature-Sensitive             0\n",
      "Perishable Goods                  0\n",
      "Customs Clearance Time (hours)    0\n",
      "Weather Conditions                0\n",
      "Day of Week                       0\n",
      "Delay Status                      0\n",
      "dtype: int64\n"
     ]
    }
   ],
   "source": [
    "print(\"Null values in dataset:\")\n",
    "print(data_frame.isnull().sum())"
   ]
  },
  {
   "cell_type": "code",
   "execution_count": 9,
   "metadata": {},
   "outputs": [],
   "source": [
    "data_frame = data_frame.dropna()"
   ]
  },
  {
   "cell_type": "code",
   "execution_count": 10,
   "metadata": {},
   "outputs": [],
   "source": [
    "cat_columns = ['Origin Airport', 'Destination Airport', 'Mode of Transport', 'Carrier Name', \n",
    "               'Temperature-Sensitive', 'Perishable Goods', 'Weather Conditions', 'Day of Week']\n",
    "data_frame = pd.get_dummies(data_frame, columns=cat_columns, drop_first=True)\n"
   ]
  },
  {
   "cell_type": "code",
   "execution_count": 14,
   "metadata": {},
   "outputs": [],
   "source": [
    "data_frame['Delay Status'] = data_frame['Delay Status'].map({'Delayed': 1, 'On-Time': 0})"
   ]
  },
  {
   "cell_type": "code",
   "execution_count": 15,
   "metadata": {},
   "outputs": [],
   "source": [
    "features = data_frame.drop(columns=['Shipment ID', 'Delay Status'])\n",
    "target = data_frame['Delay Status']"
   ]
  },
  {
   "cell_type": "code",
   "execution_count": 16,
   "metadata": {},
   "outputs": [],
   "source": [
    "scaler = StandardScaler()\n",
    "features = scaler.fit_transform(features)"
   ]
  },
  {
   "cell_type": "code",
   "execution_count": 17,
   "metadata": {},
   "outputs": [],
   "source": [
    "X_train, X_test, y_train, y_test = train_test_split(features, target, test_size=0.25, random_state=50)"
   ]
  },
  {
   "cell_type": "code",
   "execution_count": 18,
   "metadata": {},
   "outputs": [
    {
     "name": "stdout",
     "output_type": "stream",
     "text": [
      "Logistic Regression Accuracy: 0.4992\n"
     ]
    }
   ],
   "source": [
    "logistic_model = LogisticRegression(max_iter=1200)\n",
    "logistic_model.fit(X_train, y_train)\n",
    "pred_logistic = logistic_model.predict(X_test)\n",
    "print(\"Logistic Regression Accuracy:\", accuracy_score(y_test, pred_logistic))"
   ]
  },
  {
   "cell_type": "code",
   "execution_count": 19,
   "metadata": {},
   "outputs": [
    {
     "name": "stdout",
     "output_type": "stream",
     "text": [
      "Decision Tree Accuracy: 0.4944\n"
     ]
    }
   ],
   "source": [
    "decision_tree = DecisionTreeClassifier(max_depth=12, min_samples_split=6, min_samples_leaf=3, random_state=50)\n",
    "decision_tree.fit(X_train, y_train)\n",
    "pred_tree = decision_tree.predict(X_test)\n",
    "print(\"Decision Tree Accuracy:\", accuracy_score(y_test, pred_tree))"
   ]
  },
  {
   "cell_type": "code",
   "execution_count": 20,
   "metadata": {},
   "outputs": [
    {
     "name": "stdout",
     "output_type": "stream",
     "text": [
      "Random Forest Accuracy: 0.5042\n"
     ]
    }
   ],
   "source": [
    "random_forest = RandomForestClassifier(n_estimators=150, max_depth=18, min_samples_split=6, min_samples_leaf=3, random_state=50)\n",
    "random_forest.fit(X_train, y_train)\n",
    "pred_forest = random_forest.predict(X_test)\n",
    "print(\"Random Forest Accuracy:\", accuracy_score(y_test, pred_forest))"
   ]
  },
  {
   "cell_type": "code",
   "execution_count": 21,
   "metadata": {},
   "outputs": [
    {
     "name": "stdout",
     "output_type": "stream",
     "text": [
      "AdaBoost Classifier Accuracy: 0.4996\n"
     ]
    }
   ],
   "source": [
    "ada_boost = AdaBoostClassifier(n_estimators=250, learning_rate=1.0, random_state=50)\n",
    "ada_boost.fit(X_train, y_train)\n",
    "pred_ada = ada_boost.predict(X_test)\n",
    "print(\"AdaBoost Classifier Accuracy:\", accuracy_score(y_test, pred_ada))"
   ]
  },
  {
   "cell_type": "code",
   "execution_count": null,
   "metadata": {},
   "outputs": [],
   "source": []
  },
  {
   "cell_type": "code",
   "execution_count": null,
   "metadata": {},
   "outputs": [],
   "source": []
  }
 ],
 "metadata": {
  "kernelspec": {
   "display_name": "Python 3",
   "language": "python",
   "name": "python3"
  },
  "language_info": {
   "codemirror_mode": {
    "name": "ipython",
    "version": 3
   },
   "file_extension": ".py",
   "mimetype": "text/x-python",
   "name": "python",
   "nbconvert_exporter": "python",
   "pygments_lexer": "ipython3",
   "version": "3.11.9"
  }
 },
 "nbformat": 4,
 "nbformat_minor": 2
}
